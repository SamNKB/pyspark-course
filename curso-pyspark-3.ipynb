{
 "cells": [
  {
   "cell_type": "code",
   "execution_count": 1,
   "id": "96bb743c-14e5-4c64-bc68-62c079dbce8e",
   "metadata": {
    "execution": {
     "iopub.execute_input": "2024-11-01T22:32:55.504633Z",
     "iopub.status.busy": "2024-11-01T22:32:55.504243Z",
     "iopub.status.idle": "2024-11-01T22:33:32.373530Z",
     "shell.execute_reply": "2024-11-01T22:33:32.372943Z",
     "shell.execute_reply.started": "2024-11-01T22:32:55.504591Z"
    },
    "tags": []
   },
   "outputs": [
    {
     "data": {
      "application/vnd.jupyter.widget-view+json": {
       "model_id": "7caa82d49c4b45deae72ed3e7f62353f",
       "version_major": 2,
       "version_minor": 0
      },
      "text/plain": [
       "VBox()"
      ]
     },
     "metadata": {},
     "output_type": "display_data"
    },
    {
     "name": "stdout",
     "output_type": "stream",
     "text": [
      "Starting Spark application\n"
     ]
    },
    {
     "data": {
      "text/html": [
       "<table>\n<tbody><tr><th>ID</th><th>YARN Application ID</th><th>Kind</th><th>State</th><th>Spark UI</th><th>Driver log</th><th>User</th><th>Current session?</th></tr><tr><td>9</td><td>application_1730479023085_0010</td><td>pyspark</td><td>idle</td><td><a target=\"_blank\" href=\"http://ip-10-120-167-113.sa-east-1.compute.internal:20888/proxy/application_1730479023085_0010/\" class=\"emr-proxy-link j-16WR1XO8EG1DI application_1730479023085_0010\" emr-resource=\"j-16WR1XO8EG1DI\n\" application-id=\"application_1730479023085_0010\">Link</a></td><td><a target=\"_blank\" href=\"http://ip-10-120-167-73.sa-east-1.compute.internal:8042/node/containerlogs/container_1730479023085_0010_01_000002/livy\">Link</a></td><td>None</td><td>✔</td></tr></tbody></table>"
      ],
      "text/plain": [
       "<IPython.core.display.HTML object>"
      ]
     },
     "metadata": {},
     "output_type": "display_data"
    },
    {
     "data": {
      "application/vnd.jupyter.widget-view+json": {
       "model_id": "",
       "version_major": 2,
       "version_minor": 0
      },
      "text/plain": [
       "FloatProgress(value=0.0, bar_style='info', description='Progress:', layout=Layout(height='25px', width='50%'),…"
      ]
     },
     "metadata": {},
     "output_type": "display_data"
    },
    {
     "name": "stdout",
     "output_type": "stream",
     "text": [
      "SparkSession available as 'spark'.\n"
     ]
    },
    {
     "data": {
      "application/vnd.jupyter.widget-view+json": {
       "model_id": "",
       "version_major": 2,
       "version_minor": 0
      },
      "text/plain": [
       "FloatProgress(value=0.0, bar_style='info', description='Progress:', layout=Layout(height='25px', width='50%'),…"
      ]
     },
     "metadata": {},
     "output_type": "display_data"
    }
   ],
   "source": [
    "from pyspark.sql import Row\n",
    "import datetime\n",
    "import decimal\n",
    "\n",
    "# Criar dois DataFrames de exemplo\n",
    "data1 = [\n",
    "    Row(name=\"Samuel\", age=30, job=\"Engenheiro de Dados\"),\n",
    "    Row(name=\"Marta\", age=40, job=\"Cientista de Dados\")\n",
    "]\n",
    "\n",
    "data2 = [\n",
    "    Row(name=\"Paula\", age=35, job=\"Desenvolvedora\"),\n",
    "    Row(name=\"Carlos\", age=45, job=\"Engenheiro de Software\")\n",
    "]\n",
    "\n",
    "df1 = spark.createDataFrame(data1)\n",
    "df2 = spark.createDataFrame(data2)"
   ]
  },
  {
   "cell_type": "code",
   "execution_count": 2,
   "id": "23ddd115-2393-4fe3-91a2-46c2cc4d0528",
   "metadata": {
    "execution": {
     "iopub.execute_input": "2024-11-01T22:33:32.375864Z",
     "iopub.status.busy": "2024-11-01T22:33:32.375606Z",
     "iopub.status.idle": "2024-11-01T22:34:13.790739Z",
     "shell.execute_reply": "2024-11-01T22:34:13.789990Z",
     "shell.execute_reply.started": "2024-11-01T22:33:32.375831Z"
    },
    "tags": []
   },
   "outputs": [
    {
     "data": {
      "application/vnd.jupyter.widget-view+json": {
       "model_id": "258d4553c28b421bacb158969075bd7e",
       "version_major": 2,
       "version_minor": 0
      },
      "text/plain": [
       "VBox()"
      ]
     },
     "metadata": {},
     "output_type": "display_data"
    },
    {
     "data": {
      "application/vnd.jupyter.widget-view+json": {
       "model_id": "",
       "version_major": 2,
       "version_minor": 0
      },
      "text/plain": [
       "FloatProgress(value=0.0, bar_style='info', description='Progress:', layout=Layout(height='25px', width='50%'),…"
      ]
     },
     "metadata": {},
     "output_type": "display_data"
    },
    {
     "name": "stdout",
     "output_type": "stream",
     "text": [
      "+------+---+-------------------+\n",
      "|  name|age|                job|\n",
      "+------+---+-------------------+\n",
      "|Samuel| 30|Engenheiro de Dados|\n",
      "| Marta| 40| Cientista de Dados|\n",
      "+------+---+-------------------+"
     ]
    }
   ],
   "source": [
    "df1.show()"
   ]
  },
  {
   "cell_type": "code",
   "execution_count": 3,
   "id": "347c3735-b350-486e-95ed-203ead210b60",
   "metadata": {
    "execution": {
     "iopub.execute_input": "2024-11-01T22:34:13.792838Z",
     "iopub.status.busy": "2024-11-01T22:34:13.792390Z",
     "iopub.status.idle": "2024-11-01T22:34:14.548008Z",
     "shell.execute_reply": "2024-11-01T22:34:14.547244Z",
     "shell.execute_reply.started": "2024-11-01T22:34:13.792804Z"
    },
    "tags": []
   },
   "outputs": [
    {
     "data": {
      "application/vnd.jupyter.widget-view+json": {
       "model_id": "a165a89b84984f31bb09511b7b6767b4",
       "version_major": 2,
       "version_minor": 0
      },
      "text/plain": [
       "VBox()"
      ]
     },
     "metadata": {},
     "output_type": "display_data"
    },
    {
     "data": {
      "application/vnd.jupyter.widget-view+json": {
       "model_id": "",
       "version_major": 2,
       "version_minor": 0
      },
      "text/plain": [
       "FloatProgress(value=0.0, bar_style='info', description='Progress:', layout=Layout(height='25px', width='50%'),…"
      ]
     },
     "metadata": {},
     "output_type": "display_data"
    },
    {
     "name": "stdout",
     "output_type": "stream",
     "text": [
      "+------+---+--------------------+\n",
      "|  name|age|                 job|\n",
      "+------+---+--------------------+\n",
      "| Paula| 35|      Desenvolvedora|\n",
      "|Carlos| 45|Engenheiro de Sof...|\n",
      "+------+---+--------------------+"
     ]
    }
   ],
   "source": [
    "df2.show()"
   ]
  },
  {
   "cell_type": "code",
   "execution_count": 4,
   "id": "3a0f6858-f563-4557-89dd-293655e992ac",
   "metadata": {
    "execution": {
     "iopub.execute_input": "2024-11-01T22:34:14.549731Z",
     "iopub.status.busy": "2024-11-01T22:34:14.549308Z",
     "iopub.status.idle": "2024-11-01T22:34:15.311927Z",
     "shell.execute_reply": "2024-11-01T22:34:15.311268Z",
     "shell.execute_reply.started": "2024-11-01T22:34:14.549695Z"
    },
    "tags": []
   },
   "outputs": [
    {
     "data": {
      "application/vnd.jupyter.widget-view+json": {
       "model_id": "aaab1fff7712463abdaa01f0be5bb218",
       "version_major": 2,
       "version_minor": 0
      },
      "text/plain": [
       "VBox()"
      ]
     },
     "metadata": {},
     "output_type": "display_data"
    },
    {
     "data": {
      "application/vnd.jupyter.widget-view+json": {
       "model_id": "",
       "version_major": 2,
       "version_minor": 0
      },
      "text/plain": [
       "FloatProgress(value=0.0, bar_style='info', description='Progress:', layout=Layout(height='25px', width='50%'),…"
      ]
     },
     "metadata": {},
     "output_type": "display_data"
    },
    {
     "name": "stdout",
     "output_type": "stream",
     "text": [
      "+------+---+--------------------+\n",
      "|  name|age|                 job|\n",
      "+------+---+--------------------+\n",
      "|Samuel| 30| Engenheiro de Dados|\n",
      "| Marta| 40|  Cientista de Dados|\n",
      "| Paula| 35|      Desenvolvedora|\n",
      "|Carlos| 45|Engenheiro de Sof...|\n",
      "+------+---+--------------------+"
     ]
    }
   ],
   "source": [
    "# Realizar a operação de união\n",
    "union_df = df1.union(df2)\n",
    "\n",
    "# Mostrar o resultado\n",
    "union_df.show()"
   ]
  },
  {
   "cell_type": "code",
   "execution_count": 5,
   "id": "a1b4024f-8c6b-48b4-b9ed-bc563ece5c00",
   "metadata": {
    "execution": {
     "iopub.execute_input": "2024-11-01T22:34:15.313392Z",
     "iopub.status.busy": "2024-11-01T22:34:15.313140Z",
     "iopub.status.idle": "2024-11-01T22:34:15.570003Z",
     "shell.execute_reply": "2024-11-01T22:34:15.569171Z",
     "shell.execute_reply.started": "2024-11-01T22:34:15.313357Z"
    },
    "tags": []
   },
   "outputs": [
    {
     "data": {
      "application/vnd.jupyter.widget-view+json": {
       "model_id": "7b88e97943614e048314b31a2bf95322",
       "version_major": 2,
       "version_minor": 0
      },
      "text/plain": [
       "VBox()"
      ]
     },
     "metadata": {},
     "output_type": "display_data"
    },
    {
     "data": {
      "application/vnd.jupyter.widget-view+json": {
       "model_id": "",
       "version_major": 2,
       "version_minor": 0
      },
      "text/plain": [
       "FloatProgress(value=0.0, bar_style='info', description='Progress:', layout=Layout(height='25px', width='50%'),…"
      ]
     },
     "metadata": {},
     "output_type": "display_data"
    }
   ],
   "source": [
    "# Dados fornecidos\n",
    "data = [\n",
    "    ('Samuel', 10.25, 30, 'Engenheiro de Dados', False, datetime.date(2019, 3, 22), datetime.datetime(2023, 10, 1, 12, 0, 0), 123456789012346,\n",
    "     3.8, bytearray(b'\\x00\\x02'), ['Java', 'PySpark', 'Ritmo Ragatanga', 'Hadoop'], {'Chave1': 'Valor3', 'Chave2': 'Valor4'},\n",
    "     {'Rua': 'Rua B', 'Cidade': 'Cidade Y', 'CEP': '23456-789'}, decimal.Decimal('10.25')),\n",
    "    ('Marta', 12500.0, 40, 'Cientista de Dados', True, datetime.date(2018, 5, 5), datetime.datetime(2023, 10, 1, 12, 0, 0), 123456789012347,\n",
    "     4.0, bytearray(b'\\x00\\x03'), ['R', 'Python'], {'Chave1': 'Valor5', 'Chave2': 'Valor6'},\n",
    "     {'Rua': 'Rua C', 'Cidade': 'Cidade Z', 'CEP': '34567-890'}, decimal.Decimal('12500.00')),\n",
    "    ('Paula', 7500.0, 35, 'Desenvolvedora', False, datetime.date(2017, 7, 10), datetime.datetime(2023, 10, 1, 12, 0, 0), 123456789012348,\n",
    "     4.2, bytearray(b'\\x00\\x04'), ['Java', 'Python'], {'Chave1': 'Valor7', 'Chave2': 'Valor8'},\n",
    "     {'Rua': 'Rua D', 'Cidade': 'Cidade W', 'CEP': '45678-901'}, decimal.Decimal('7500.00')),\n",
    "    ('Carlos', 15000.0, 45, 'Engenheiro de Software', True, datetime.date(2016, 9, 30), datetime.datetime(2023, 10, 1, 12, 0, 0), 123456789012349,\n",
    "     4.9, bytearray(b'\\x00\\x05'), ['Java', 'Scala'], {'Chave1': 'Valor9', 'Chave2': 'Valor10'},\n",
    "     {'Rua': 'Rua E', 'Cidade': 'Cidade V', 'CEP': '56789-012'}, decimal.Decimal('15000.00')),\n",
    "    ('Laura', 10000.0, 50, 'Analista de Dados', False, datetime.date(2015, 12, 20), datetime.datetime(2023, 10, 1, 12, 0, 0), 123456789012350,\n",
    "     4.7, bytearray(b'\\x00\\x06'), ['Python', 'SQL'], {'Chave1': 'Valor11', 'Chave2': 'Valor12'},\n",
    "     {'Rua': 'Rua F', 'Cidade': 'Cidade U', 'CEP': '67890-123'}, decimal.Decimal('10000.00')),\n",
    "    ('Mariana', 7500.0, 55, 'Desenvolvedora', True, datetime.date(2014, 2, 15), datetime.datetime(2023, 10, 1, 12, 0, 0), 123456789012351,\n",
    "     4.3, bytearray(b'\\x00\\x07'), ['Java', 'Scala'], {'Chave1': 'Valor13', 'Chave2': 'Valor14'},\n",
    "     {'Rua': 'Rua G', 'Cidade': 'Cidade T', 'CEP': '78901-234'}, decimal.Decimal('7500.00')),\n",
    "    ('Fernanda', 20000.0, 60, 'Engenheira de Dados', False, datetime.date(2013, 4, 5), datetime.datetime(2023, 10, 1, 12, 0, 0), 123456789012352,\n",
    "     4.6, bytearray(b'\\x00\\x08'), ['Python', 'Spark'], {'Chave1': 'Valor15', 'Chave2': 'Valor16'},\n",
    "     {'Rua': 'Rua H', 'Cidade': 'Cidade S', 'CEP': '89012-345'}, decimal.Decimal('20000.00')),\n",
    "    ('Ricardo', 5000.0, 65, 'Analista de Dados', True, datetime.date(2012, 6, 10), datetime.datetime(2023, 10, 1, 12, 0, 0), 123456789012353,\n",
    "     4.1, bytearray(b'\\x00\\x09'), ['R', 'Python'], {'Chave1': 'Valor17', 'Chave2': 'Valor18'},\n",
    "     {'Rua': 'Rua I', 'Cidade': 'Cidade R', 'CEP': '90123-456'}, decimal.Decimal('5000.00')),\n",
    "    ('Samuel', 5000.0, 65, 'Agiota', True, datetime.date(2012, 6, 10), datetime.datetime(2023, 10, 1, 12, 0, 0), 123456789012353,\n",
    "     4.1, bytearray(b'\\x00\\x09'), ['So quebra, nao mata'], {'Chave1': 'Valor17', 'Chave2': 'Valor18'},\n",
    "     {'Rua': 'Rua I', 'Cidade': 'Cidade R', 'CEP': '90123-456'}, decimal.Decimal('5000.00'))\n",
    "]\n",
    "\n",
    "# Definir o esquema do DataFrame\n",
    "schema = [\"name\", \"salary\", \"age\", \"job\", \"is_active\", \"start_date\", \"last_update\", \"id\", \"rating\", \"binary_data\", \"skills\", \"metadata\", \"address\", \"bonus\"]\n",
    "\n",
    "# Criar o DataFrame\n",
    "df = spark.createDataFrame(data, schema)\n",
    "\n",
    "# Registrar o DataFrame como uma tabela temporária\n",
    "df.createOrReplaceTempView(\"employees\")"
   ]
  },
  {
   "cell_type": "code",
   "execution_count": 6,
   "id": "d555939c-25f1-4151-b749-24646c2b47e3",
   "metadata": {
    "execution": {
     "iopub.execute_input": "2024-11-01T22:34:15.571422Z",
     "iopub.status.busy": "2024-11-01T22:34:15.571143Z",
     "iopub.status.idle": "2024-11-01T22:34:16.858525Z",
     "shell.execute_reply": "2024-11-01T22:34:16.857876Z",
     "shell.execute_reply.started": "2024-11-01T22:34:15.571387Z"
    },
    "tags": []
   },
   "outputs": [
    {
     "data": {
      "application/vnd.jupyter.widget-view+json": {
       "model_id": "2ebe79e3293d41cb96a5fa7e45bdbd39",
       "version_major": 2,
       "version_minor": 0
      },
      "text/plain": [
       "VBox()"
      ]
     },
     "metadata": {},
     "output_type": "display_data"
    },
    {
     "data": {
      "application/vnd.jupyter.widget-view+json": {
       "model_id": "",
       "version_major": 2,
       "version_minor": 0
      },
      "text/plain": [
       "FloatProgress(value=0.0, bar_style='info', description='Progress:', layout=Layout(height='25px', width='50%'),…"
      ]
     },
     "metadata": {},
     "output_type": "display_data"
    },
    {
     "name": "stdout",
     "output_type": "stream",
     "text": [
      "+--------+-------+---+--------------------+---------+----------+-------------------+---------------+------+-----------+--------------------+--------------------+--------------------+--------------------+\n",
      "|    name| salary|age|                 job|is_active|start_date|        last_update|             id|rating|binary_data|              skills|            metadata|             address|               bonus|\n",
      "+--------+-------+---+--------------------+---------+----------+-------------------+---------------+------+-----------+--------------------+--------------------+--------------------+--------------------+\n",
      "|  Samuel|  10.25| 30| Engenheiro de Dados|    false|2019-03-22|2023-10-01 12:00:00|123456789012346|   3.8|    [00 02]|[Java, PySpark, R...|{Chave1 -> Valor3...|{CEP -> 23456-789...|10.25000000000000...|\n",
      "|   Marta|12500.0| 40|  Cientista de Dados|     true|2018-05-05|2023-10-01 12:00:00|123456789012347|   4.0|    [00 03]|         [R, Python]|{Chave1 -> Valor5...|{CEP -> 34567-890...|12500.00000000000...|\n",
      "|   Paula| 7500.0| 35|      Desenvolvedora|    false|2017-07-10|2023-10-01 12:00:00|123456789012348|   4.2|    [00 04]|      [Java, Python]|{Chave1 -> Valor7...|{CEP -> 45678-901...|7500.000000000000...|\n",
      "|  Carlos|15000.0| 45|Engenheiro de Sof...|     true|2016-09-30|2023-10-01 12:00:00|123456789012349|   4.9|    [00 05]|       [Java, Scala]|{Chave1 -> Valor9...|{CEP -> 56789-012...|15000.00000000000...|\n",
      "|   Laura|10000.0| 50|   Analista de Dados|    false|2015-12-20|2023-10-01 12:00:00|123456789012350|   4.7|    [00 06]|       [Python, SQL]|{Chave1 -> Valor1...|{CEP -> 67890-123...|10000.00000000000...|\n",
      "| Mariana| 7500.0| 55|      Desenvolvedora|     true|2014-02-15|2023-10-01 12:00:00|123456789012351|   4.3|    [00 07]|       [Java, Scala]|{Chave1 -> Valor1...|{CEP -> 78901-234...|7500.000000000000...|\n",
      "|Fernanda|20000.0| 60| Engenheira de Dados|    false|2013-04-05|2023-10-01 12:00:00|123456789012352|   4.6|    [00 08]|     [Python, Spark]|{Chave1 -> Valor1...|{CEP -> 89012-345...|20000.00000000000...|\n",
      "| Ricardo| 5000.0| 65|   Analista de Dados|     true|2012-06-10|2023-10-01 12:00:00|123456789012353|   4.1|    [00 09]|         [R, Python]|{Chave1 -> Valor1...|{CEP -> 90123-456...|5000.000000000000...|\n",
      "|  Samuel| 5000.0| 65|              Agiota|     true|2012-06-10|2023-10-01 12:00:00|123456789012353|   4.1|    [00 09]|[So quebra, nao m...|{Chave1 -> Valor1...|{CEP -> 90123-456...|5000.000000000000...|\n",
      "+--------+-------+---+--------------------+---------+----------+-------------------+---------------+------+-----------+--------------------+--------------------+--------------------+--------------------+"
     ]
    }
   ],
   "source": [
    "# Exemplos de consultas SQL\n",
    "\n",
    "# 1. Selecionar todos os dados\n",
    "result1 = spark.sql(\"SELECT * FROM employees\")\n",
    "result1.show()"
   ]
  },
  {
   "cell_type": "code",
   "execution_count": 7,
   "id": "bcb472ec-312d-47af-bc52-9c596b21b7c9",
   "metadata": {
    "execution": {
     "iopub.execute_input": "2024-11-01T22:34:16.859658Z",
     "iopub.status.busy": "2024-11-01T22:34:16.859479Z",
     "iopub.status.idle": "2024-11-01T22:34:17.698708Z",
     "shell.execute_reply": "2024-11-01T22:34:17.698063Z",
     "shell.execute_reply.started": "2024-11-01T22:34:16.859633Z"
    },
    "tags": []
   },
   "outputs": [
    {
     "data": {
      "application/vnd.jupyter.widget-view+json": {
       "model_id": "f8c79bb0c8744fed908de3e8a4072050",
       "version_major": 2,
       "version_minor": 0
      },
      "text/plain": [
       "VBox()"
      ]
     },
     "metadata": {},
     "output_type": "display_data"
    },
    {
     "data": {
      "application/vnd.jupyter.widget-view+json": {
       "model_id": "",
       "version_major": 2,
       "version_minor": 0
      },
      "text/plain": [
       "FloatProgress(value=0.0, bar_style='info', description='Progress:', layout=Layout(height='25px', width='50%'),…"
      ]
     },
     "metadata": {},
     "output_type": "display_data"
    },
    {
     "name": "stdout",
     "output_type": "stream",
     "text": [
      "+--------+-------+\n",
      "|    name| salary|\n",
      "+--------+-------+\n",
      "|  Samuel|  10.25|\n",
      "|   Marta|12500.0|\n",
      "|   Paula| 7500.0|\n",
      "|  Carlos|15000.0|\n",
      "|   Laura|10000.0|\n",
      "| Mariana| 7500.0|\n",
      "|Fernanda|20000.0|\n",
      "| Ricardo| 5000.0|\n",
      "|  Samuel| 5000.0|\n",
      "+--------+-------+"
     ]
    }
   ],
   "source": [
    "# 2. Selecionar apenas os nomes e salários\n",
    "result2 = spark.sql(\"SELECT name, salary FROM employees\")\n",
    "result2.show()"
   ]
  },
  {
   "cell_type": "code",
   "execution_count": 8,
   "id": "5596cb37-d7e9-49c5-a8cf-1f8748f18e3a",
   "metadata": {
    "execution": {
     "iopub.execute_input": "2024-11-01T22:34:17.700720Z",
     "iopub.status.busy": "2024-11-01T22:34:17.700550Z",
     "iopub.status.idle": "2024-11-01T22:34:18.458675Z",
     "shell.execute_reply": "2024-11-01T22:34:18.458033Z",
     "shell.execute_reply.started": "2024-11-01T22:34:17.700699Z"
    },
    "tags": []
   },
   "outputs": [
    {
     "data": {
      "application/vnd.jupyter.widget-view+json": {
       "model_id": "1e5a94f8150944dcbabbb4bf5cd71f1f",
       "version_major": 2,
       "version_minor": 0
      },
      "text/plain": [
       "VBox()"
      ]
     },
     "metadata": {},
     "output_type": "display_data"
    },
    {
     "data": {
      "application/vnd.jupyter.widget-view+json": {
       "model_id": "",
       "version_major": 2,
       "version_minor": 0
      },
      "text/plain": [
       "FloatProgress(value=0.0, bar_style='info', description='Progress:', layout=Layout(height='25px', width='50%'),…"
      ]
     },
     "metadata": {},
     "output_type": "display_data"
    },
    {
     "name": "stdout",
     "output_type": "stream",
     "text": [
      "+--------+-------+\n",
      "|    name| salary|\n",
      "+--------+-------+\n",
      "|   Marta|12500.0|\n",
      "|  Carlos|15000.0|\n",
      "|Fernanda|20000.0|\n",
      "+--------+-------+"
     ]
    }
   ],
   "source": [
    "# 3. Filtrar por salário maior que 10000\n",
    "result3 = spark.sql(\"SELECT name, salary FROM employees WHERE salary > 10000\")\n",
    "result3.show()"
   ]
  },
  {
   "cell_type": "code",
   "execution_count": 9,
   "id": "c25cd757-5f08-4864-947e-a8a57a5c41a3",
   "metadata": {
    "execution": {
     "iopub.execute_input": "2024-11-01T22:34:18.460290Z",
     "iopub.status.busy": "2024-11-01T22:34:18.459954Z",
     "iopub.status.idle": "2024-11-01T22:34:21.756548Z",
     "shell.execute_reply": "2024-11-01T22:34:21.755925Z",
     "shell.execute_reply.started": "2024-11-01T22:34:18.460248Z"
    },
    "tags": []
   },
   "outputs": [
    {
     "data": {
      "application/vnd.jupyter.widget-view+json": {
       "model_id": "6d39e69be4e9412a88a91daccd811655",
       "version_major": 2,
       "version_minor": 0
      },
      "text/plain": [
       "VBox()"
      ]
     },
     "metadata": {},
     "output_type": "display_data"
    },
    {
     "data": {
      "application/vnd.jupyter.widget-view+json": {
       "model_id": "",
       "version_major": 2,
       "version_minor": 0
      },
      "text/plain": [
       "FloatProgress(value=0.0, bar_style='info', description='Progress:', layout=Layout(height='25px', width='50%'),…"
      ]
     },
     "metadata": {},
     "output_type": "display_data"
    },
    {
     "name": "stdout",
     "output_type": "stream",
     "text": [
      "+--------------------+----------+\n",
      "|                 job|avg_salary|\n",
      "+--------------------+----------+\n",
      "| Engenheiro de Dados|     10.25|\n",
      "|  Cientista de Dados|   12500.0|\n",
      "|Engenheiro de Sof...|   15000.0|\n",
      "|      Desenvolvedora|    7500.0|\n",
      "|   Analista de Dados|    7500.0|\n",
      "|              Agiota|    5000.0|\n",
      "| Engenheira de Dados|   20000.0|\n",
      "+--------------------+----------+"
     ]
    }
   ],
   "source": [
    "# 4. Agrupar por profissão e calcular a média salarial\n",
    "result4 = spark.sql(\"SELECT job, AVG(salary) as avg_salary FROM employees GROUP BY job\")\n",
    "result4.show()"
   ]
  },
  {
   "cell_type": "code",
   "execution_count": 10,
   "id": "e08ac48d-b731-4989-b2ed-9435b0d337db",
   "metadata": {
    "execution": {
     "iopub.execute_input": "2024-11-01T22:34:21.757597Z",
     "iopub.status.busy": "2024-11-01T22:34:21.757431Z",
     "iopub.status.idle": "2024-11-01T22:34:22.520324Z",
     "shell.execute_reply": "2024-11-01T22:34:22.519575Z",
     "shell.execute_reply.started": "2024-11-01T22:34:21.757576Z"
    },
    "tags": []
   },
   "outputs": [
    {
     "data": {
      "application/vnd.jupyter.widget-view+json": {
       "model_id": "c68c2448b12d43639d3543c5a995e7db",
       "version_major": 2,
       "version_minor": 0
      },
      "text/plain": [
       "VBox()"
      ]
     },
     "metadata": {},
     "output_type": "display_data"
    },
    {
     "data": {
      "application/vnd.jupyter.widget-view+json": {
       "model_id": "",
       "version_major": 2,
       "version_minor": 0
      },
      "text/plain": [
       "FloatProgress(value=0.0, bar_style='info', description='Progress:', layout=Layout(height='25px', width='50%'),…"
      ]
     },
     "metadata": {},
     "output_type": "display_data"
    },
    {
     "name": "stdout",
     "output_type": "stream",
     "text": [
      "+--------+---+\n",
      "|    name|age|\n",
      "+--------+---+\n",
      "| Ricardo| 65|\n",
      "|  Samuel| 65|\n",
      "|Fernanda| 60|\n",
      "| Mariana| 55|\n",
      "|   Laura| 50|\n",
      "|  Carlos| 45|\n",
      "|   Marta| 40|\n",
      "|   Paula| 35|\n",
      "|  Samuel| 30|\n",
      "+--------+---+"
     ]
    }
   ],
   "source": [
    "# 5. Ordenar por idade em ordem decrescente\n",
    "result5 = spark.sql(\"SELECT name, age FROM employees ORDER BY age DESC\")\n",
    "result5.show()"
   ]
  },
  {
   "cell_type": "code",
   "execution_count": 11,
   "id": "095cdb88-9d35-4fd5-b387-e6120fe9219e",
   "metadata": {
    "collapsed": true,
    "execution": {
     "iopub.execute_input": "2024-11-01T22:34:22.521705Z",
     "iopub.status.busy": "2024-11-01T22:34:22.521461Z",
     "iopub.status.idle": "2024-11-01T22:34:23.278039Z",
     "shell.execute_reply": "2024-11-01T22:34:23.277411Z",
     "shell.execute_reply.started": "2024-11-01T22:34:22.521672Z"
    },
    "jupyter": {
     "outputs_hidden": true
    },
    "tags": []
   },
   "outputs": [
    {
     "data": {
      "application/vnd.jupyter.widget-view+json": {
       "model_id": "98136b4f944346e4a3504f1c7c12dc86",
       "version_major": 2,
       "version_minor": 0
      },
      "text/plain": [
       "VBox()"
      ]
     },
     "metadata": {},
     "output_type": "display_data"
    },
    {
     "data": {
      "application/vnd.jupyter.widget-view+json": {
       "model_id": "",
       "version_major": 2,
       "version_minor": 0
      },
      "text/plain": [
       "FloatProgress(value=0.0, bar_style='info', description='Progress:', layout=Layout(height='25px', width='50%'),…"
      ]
     },
     "metadata": {},
     "output_type": "display_data"
    },
    {
     "name": "stderr",
     "output_type": "stream",
     "text": [
      "An error was encountered:\n",
      "[PATH_NOT_FOUND] Path does not exist: hdfs://ip-10-120-167-113.sa-east-1.compute.internal:8020/user/livy/workspace/samuk/vgsales.csv.\n",
      "Traceback (most recent call last):\n",
      "  File \"/mnt/yarn/usercache/livy/appcache/application_1730479023085_0010/container_1730479023085_0010_01_000002/pyspark.zip/pyspark/sql/readwriter.py\", line 727, in csv\n",
      "    return self._df(self._jreader.csv(self._spark._sc._jvm.PythonUtils.toSeq(path)))\n",
      "  File \"/mnt/yarn/usercache/livy/appcache/application_1730479023085_0010/container_1730479023085_0010_01_000002/py4j-0.10.9.7-src.zip/py4j/java_gateway.py\", line 1323, in __call__\n",
      "    answer, self.gateway_client, self.target_id, self.name)\n",
      "  File \"/mnt/yarn/usercache/livy/appcache/application_1730479023085_0010/container_1730479023085_0010_01_000002/pyspark.zip/pyspark/errors/exceptions/captured.py\", line 175, in deco\n",
      "    raise converted from None\n",
      "pyspark.errors.exceptions.captured.AnalysisException: [PATH_NOT_FOUND] Path does not exist: hdfs://ip-10-120-167-113.sa-east-1.compute.internal:8020/user/livy/workspace/samuk/vgsales.csv.\n",
      "\n"
     ]
    }
   ],
   "source": [
    "df = spark.read.csv(\"./workspace/samuk/vgsales.csv\", header = True)"
   ]
  },
  {
   "cell_type": "code",
   "execution_count": 12,
   "id": "3d293d58-6b44-4734-8f08-674c8329a176",
   "metadata": {
    "execution": {
     "iopub.execute_input": "2024-11-01T22:34:23.279508Z",
     "iopub.status.busy": "2024-11-01T22:34:23.279175Z",
     "iopub.status.idle": "2024-11-01T22:34:23.349855Z",
     "shell.execute_reply": "2024-11-01T22:34:23.349262Z",
     "shell.execute_reply.started": "2024-11-01T22:34:23.279474Z"
    }
   },
   "outputs": [
    {
     "data": {
      "application/vnd.jupyter.widget-view+json": {
       "model_id": "115570a9f7524ccaab8348be095953f9",
       "version_major": 2,
       "version_minor": 0
      },
      "text/plain": [
       "VBox()"
      ]
     },
     "metadata": {},
     "output_type": "display_data"
    },
    {
     "data": {
      "application/vnd.jupyter.widget-view+json": {
       "model_id": "",
       "version_major": 2,
       "version_minor": 0
      },
      "text/plain": [
       "FloatProgress(value=0.0, bar_style='info', description='Progress:', layout=Layout(height='25px', width='50%'),…"
      ]
     },
     "metadata": {},
     "output_type": "display_data"
    }
   ],
   "source": [
    "## https://www.kaggle.com/datasets/gregorut/videogamesales/data"
   ]
  },
  {
   "cell_type": "code",
   "execution_count": 13,
   "id": "e4506bc8-7312-4434-a61f-ce0b6a9563fe",
   "metadata": {
    "execution": {
     "iopub.execute_input": "2024-11-01T22:34:23.351192Z",
     "iopub.status.busy": "2024-11-01T22:34:23.350947Z",
     "iopub.status.idle": "2024-11-01T22:34:24.165284Z",
     "shell.execute_reply": "2024-11-01T22:34:24.163873Z",
     "shell.execute_reply.started": "2024-11-01T22:34:23.351157Z"
    },
    "tags": []
   },
   "outputs": [
    {
     "data": {
      "application/vnd.jupyter.widget-view+json": {
       "model_id": "3a22147f7ab342828bde40a01253803a",
       "version_major": 2,
       "version_minor": 0
      },
      "text/plain": [
       "VBox()"
      ]
     },
     "metadata": {},
     "output_type": "display_data"
    },
    {
     "data": {
      "application/vnd.jupyter.widget-view+json": {
       "model_id": "",
       "version_major": 2,
       "version_minor": 0
      },
      "text/plain": [
       "FloatProgress(value=0.0, bar_style='info', description='Progress:', layout=Layout(height='25px', width='50%'),…"
      ]
     },
     "metadata": {},
     "output_type": "display_data"
    },
    {
     "name": "stdout",
     "output_type": "stream",
     "text": [
      "+--------+-------+---+--------------------+---------+----------+-------------------+---------------+------+-----------+--------------------+--------------------+--------------------+--------------------+\n",
      "|    name| salary|age|                 job|is_active|start_date|        last_update|             id|rating|binary_data|              skills|            metadata|             address|               bonus|\n",
      "+--------+-------+---+--------------------+---------+----------+-------------------+---------------+------+-----------+--------------------+--------------------+--------------------+--------------------+\n",
      "|  Samuel|  10.25| 30| Engenheiro de Dados|    false|2019-03-22|2023-10-01 12:00:00|123456789012346|   3.8|    [00 02]|[Java, PySpark, R...|{Chave1 -> Valor3...|{CEP -> 23456-789...|10.25000000000000...|\n",
      "|   Marta|12500.0| 40|  Cientista de Dados|     true|2018-05-05|2023-10-01 12:00:00|123456789012347|   4.0|    [00 03]|         [R, Python]|{Chave1 -> Valor5...|{CEP -> 34567-890...|12500.00000000000...|\n",
      "|   Paula| 7500.0| 35|      Desenvolvedora|    false|2017-07-10|2023-10-01 12:00:00|123456789012348|   4.2|    [00 04]|      [Java, Python]|{Chave1 -> Valor7...|{CEP -> 45678-901...|7500.000000000000...|\n",
      "|  Carlos|15000.0| 45|Engenheiro de Sof...|     true|2016-09-30|2023-10-01 12:00:00|123456789012349|   4.9|    [00 05]|       [Java, Scala]|{Chave1 -> Valor9...|{CEP -> 56789-012...|15000.00000000000...|\n",
      "|   Laura|10000.0| 50|   Analista de Dados|    false|2015-12-20|2023-10-01 12:00:00|123456789012350|   4.7|    [00 06]|       [Python, SQL]|{Chave1 -> Valor1...|{CEP -> 67890-123...|10000.00000000000...|\n",
      "| Mariana| 7500.0| 55|      Desenvolvedora|     true|2014-02-15|2023-10-01 12:00:00|123456789012351|   4.3|    [00 07]|       [Java, Scala]|{Chave1 -> Valor1...|{CEP -> 78901-234...|7500.000000000000...|\n",
      "|Fernanda|20000.0| 60| Engenheira de Dados|    false|2013-04-05|2023-10-01 12:00:00|123456789012352|   4.6|    [00 08]|     [Python, Spark]|{Chave1 -> Valor1...|{CEP -> 89012-345...|20000.00000000000...|\n",
      "| Ricardo| 5000.0| 65|   Analista de Dados|     true|2012-06-10|2023-10-01 12:00:00|123456789012353|   4.1|    [00 09]|         [R, Python]|{Chave1 -> Valor1...|{CEP -> 90123-456...|5000.000000000000...|\n",
      "|  Samuel| 5000.0| 65|              Agiota|     true|2012-06-10|2023-10-01 12:00:00|123456789012353|   4.1|    [00 09]|[So quebra, nao m...|{Chave1 -> Valor1...|{CEP -> 90123-456...|5000.000000000000...|\n",
      "+--------+-------+---+--------------------+---------+----------+-------------------+---------------+------+-----------+--------------------+--------------------+--------------------+--------------------+"
     ]
    }
   ],
   "source": [
    "df.show()"
   ]
  },
  {
   "cell_type": "code",
   "execution_count": null,
   "id": "b45cd69a-b4a1-4953-a27f-443454db0f1f",
   "metadata": {},
   "outputs": [],
   "source": []
  }
 ],
 "metadata": {
  "kernelspec": {
   "display_name": "PySpark",
   "language": "python",
   "name": "pysparkkernel"
  },
  "language_info": {
   "codemirror_mode": {
    "name": "python",
    "version": 3
   },
   "file_extension": ".py",
   "mimetype": "text/x-python",
   "name": "pyspark",
   "pygments_lexer": "python3"
  }
 },
 "nbformat": 4,
 "nbformat_minor": 5
}
