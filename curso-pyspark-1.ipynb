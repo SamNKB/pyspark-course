{
 "cells": [
  {
   "cell_type": "markdown",
   "id": "dc3f7ab0-4549-40b0-9b01-b3795e9f5bd7",
   "metadata": {},
   "source": [
    "### Criando meu primeiro dataframe spark"
   ]
  },
  {
   "cell_type": "code",
   "execution_count": 1,
   "id": "23ad6eb1-7f49-4d29-b9be-d35b38a6eb67",
   "metadata": {
    "execution": {
     "iopub.execute_input": "2024-11-01T22:29:36.530699Z",
     "iopub.status.busy": "2024-11-01T22:29:36.530323Z",
     "iopub.status.idle": "2024-11-01T22:30:34.417177Z",
     "shell.execute_reply": "2024-11-01T22:30:34.416409Z",
     "shell.execute_reply.started": "2024-11-01T22:29:36.530670Z"
    }
   },
   "outputs": [
    {
     "data": {
      "application/vnd.jupyter.widget-view+json": {
       "model_id": "2376c558474b4c6e9f894f693fc99a19",
       "version_major": 2,
       "version_minor": 0
      },
      "text/plain": [
       "VBox()"
      ]
     },
     "metadata": {},
     "output_type": "display_data"
    },
    {
     "name": "stdout",
     "output_type": "stream",
     "text": [
      "Starting Spark application\n"
     ]
    },
    {
     "data": {
      "text/html": [
       "<table>\n<tbody><tr><th>ID</th><th>YARN Application ID</th><th>Kind</th><th>State</th><th>Spark UI</th><th>Driver log</th><th>User</th><th>Current session?</th></tr><tr><td>6</td><td>application_1730479023085_0007</td><td>pyspark</td><td>idle</td><td><a target=\"_blank\" href=\"http://ip-10-120-167-113.sa-east-1.compute.internal:20888/proxy/application_1730479023085_0007/\" class=\"emr-proxy-link j-16WR1XO8EG1DI application_1730479023085_0007\" emr-resource=\"j-16WR1XO8EG1DI\n\" application-id=\"application_1730479023085_0007\">Link</a></td><td><a target=\"_blank\" href=\"http://ip-10-120-167-73.sa-east-1.compute.internal:8042/node/containerlogs/container_1730479023085_0007_01_000001/livy\">Link</a></td><td>None</td><td>✔</td></tr></tbody></table>"
      ],
      "text/plain": [
       "<IPython.core.display.HTML object>"
      ]
     },
     "metadata": {},
     "output_type": "display_data"
    },
    {
     "data": {
      "application/vnd.jupyter.widget-view+json": {
       "model_id": "",
       "version_major": 2,
       "version_minor": 0
      },
      "text/plain": [
       "FloatProgress(value=0.0, bar_style='info', description='Progress:', layout=Layout(height='25px', width='50%'),…"
      ]
     },
     "metadata": {},
     "output_type": "display_data"
    },
    {
     "name": "stdout",
     "output_type": "stream",
     "text": [
      "SparkSession available as 'spark'.\n"
     ]
    },
    {
     "data": {
      "application/vnd.jupyter.widget-view+json": {
       "model_id": "",
       "version_major": 2,
       "version_minor": 0
      },
      "text/plain": [
       "FloatProgress(value=0.0, bar_style='info', description='Progress:', layout=Layout(height='25px', width='50%'),…"
      ]
     },
     "metadata": {},
     "output_type": "display_data"
    },
    {
     "name": "stdout",
     "output_type": "stream",
     "text": [
      "+------+-------+-----+-------------------+\n",
      "|  nome|salario|idade|               prof|\n",
      "+------+-------+-----+-------------------+\n",
      "| Alice|  50000|   25|         Engenheiro|\n",
      "|   Bob|  60000|   30|             Medico|\n",
      "|Carlos|  55000|   28|           Advogado|\n",
      "| Diana|  65000|   35|          Arquiteto|\n",
      "|Samuel|    700|   40|Engenheiro de Dados|\n",
      "+------+-------+-----+-------------------+"
     ]
    }
   ],
   "source": [
    "from pyspark.sql import SparkSession\n",
    "\n",
    "# Criar uma sessão Spark\n",
    "spark = SparkSession.builder.appName(\"ExemploDataFrame\").getOrCreate()\n",
    "\n",
    "# Dados fictícios\n",
    "data = [\n",
    "    ('Alice', 50000, 25, 'Engenheiro'),\n",
    "    ('Bob', 60000, 30, 'Medico'),\n",
    "    ('Carlos', 55000, 28, 'Advogado'),\n",
    "    ('Diana', 65000, 35, 'Arquiteto'),\n",
    "    ('Samuel', 700, 40, 'Engenheiro de Dados')\n",
    "]\n",
    "\n",
    "# Definir os nomes das colunas\n",
    "columns = ['nome', 'salario', 'idade', 'prof']\n",
    "\n",
    "# Criar DataFrame\n",
    "df = spark.createDataFrame(data, schema=columns)\n",
    "\n",
    "# Exibir DataFrame\n",
    "df.show()"
   ]
  },
  {
   "cell_type": "markdown",
   "id": "bc4339a2-2141-435b-8923-0dcf9c46451a",
   "metadata": {},
   "source": [
    "#### Rename de colunas, quero renomear prof para profissao"
   ]
  },
  {
   "cell_type": "code",
   "execution_count": 2,
   "id": "a39b5c68-afde-4012-b903-e79f06a6c1cc",
   "metadata": {
    "execution": {
     "iopub.execute_input": "2024-11-01T22:30:34.418772Z",
     "iopub.status.busy": "2024-11-01T22:30:34.418534Z",
     "iopub.status.idle": "2024-11-01T22:30:34.672673Z",
     "shell.execute_reply": "2024-11-01T22:30:34.672031Z",
     "shell.execute_reply.started": "2024-11-01T22:30:34.418739Z"
    }
   },
   "outputs": [
    {
     "data": {
      "application/vnd.jupyter.widget-view+json": {
       "model_id": "195642f39a4349468156143f90b9d0aa",
       "version_major": 2,
       "version_minor": 0
      },
      "text/plain": [
       "VBox()"
      ]
     },
     "metadata": {},
     "output_type": "display_data"
    },
    {
     "data": {
      "application/vnd.jupyter.widget-view+json": {
       "model_id": "",
       "version_major": 2,
       "version_minor": 0
      },
      "text/plain": [
       "FloatProgress(value=0.0, bar_style='info', description='Progress:', layout=Layout(height='25px', width='50%'),…"
      ]
     },
     "metadata": {},
     "output_type": "display_data"
    }
   ],
   "source": [
    "df = df.withColumnRenamed(\"prof\",\"profissao\")"
   ]
  },
  {
   "cell_type": "code",
   "execution_count": 3,
   "id": "a2ee730f-48de-4fdc-becb-ab39eea8f020",
   "metadata": {
    "execution": {
     "iopub.execute_input": "2024-11-01T22:30:34.673712Z",
     "iopub.status.busy": "2024-11-01T22:30:34.673545Z",
     "iopub.status.idle": "2024-11-01T22:30:35.438827Z",
     "shell.execute_reply": "2024-11-01T22:30:35.438099Z",
     "shell.execute_reply.started": "2024-11-01T22:30:34.673690Z"
    }
   },
   "outputs": [
    {
     "data": {
      "application/vnd.jupyter.widget-view+json": {
       "model_id": "cff4533617c0486c8ca208a640a3097e",
       "version_major": 2,
       "version_minor": 0
      },
      "text/plain": [
       "VBox()"
      ]
     },
     "metadata": {},
     "output_type": "display_data"
    },
    {
     "data": {
      "application/vnd.jupyter.widget-view+json": {
       "model_id": "",
       "version_major": 2,
       "version_minor": 0
      },
      "text/plain": [
       "FloatProgress(value=0.0, bar_style='info', description='Progress:', layout=Layout(height='25px', width='50%'),…"
      ]
     },
     "metadata": {},
     "output_type": "display_data"
    },
    {
     "name": "stdout",
     "output_type": "stream",
     "text": [
      "+------+-------+-----+-------------------+\n",
      "|  nome|salario|idade|          profissao|\n",
      "+------+-------+-----+-------------------+\n",
      "| Alice|  50000|   25|         Engenheiro|\n",
      "|   Bob|  60000|   30|             Medico|\n",
      "|Carlos|  55000|   28|           Advogado|\n",
      "| Diana|  65000|   35|          Arquiteto|\n",
      "|Samuel|    700|   40|Engenheiro de Dados|\n",
      "+------+-------+-----+-------------------+"
     ]
    }
   ],
   "source": [
    "df.show()"
   ]
  },
  {
   "cell_type": "markdown",
   "id": "26860106-6bf2-4bb0-af2d-bf309d63101b",
   "metadata": {},
   "source": [
    "#### Como eu acesso a tipagem dos dados dentro do pyspark?"
   ]
  },
  {
   "cell_type": "code",
   "execution_count": 4,
   "id": "e2d96348-f505-4e76-9f4f-69670fb314da",
   "metadata": {
    "execution": {
     "iopub.execute_input": "2024-11-01T22:30:35.439930Z",
     "iopub.status.busy": "2024-11-01T22:30:35.439765Z",
     "iopub.status.idle": "2024-11-01T22:30:35.693251Z",
     "shell.execute_reply": "2024-11-01T22:30:35.692593Z",
     "shell.execute_reply.started": "2024-11-01T22:30:35.439909Z"
    }
   },
   "outputs": [
    {
     "data": {
      "application/vnd.jupyter.widget-view+json": {
       "model_id": "b811be8b67af4927ab886aaa6a34b535",
       "version_major": 2,
       "version_minor": 0
      },
      "text/plain": [
       "VBox()"
      ]
     },
     "metadata": {},
     "output_type": "display_data"
    },
    {
     "data": {
      "application/vnd.jupyter.widget-view+json": {
       "model_id": "",
       "version_major": 2,
       "version_minor": 0
      },
      "text/plain": [
       "FloatProgress(value=0.0, bar_style='info', description='Progress:', layout=Layout(height='25px', width='50%'),…"
      ]
     },
     "metadata": {},
     "output_type": "display_data"
    },
    {
     "name": "stdout",
     "output_type": "stream",
     "text": [
      "root\n",
      " |-- nome: string (nullable = true)\n",
      " |-- salario: long (nullable = true)\n",
      " |-- idade: long (nullable = true)\n",
      " |-- profissao: string (nullable = true)"
     ]
    }
   ],
   "source": [
    "df.printSchema()"
   ]
  },
  {
   "cell_type": "markdown",
   "id": "903e03d1-e247-494c-9bf8-bead3ca7ac90",
   "metadata": {},
   "source": [
    "#### E se eu quiser pegar uma lista com os nomes das colunas do meu dataframe?"
   ]
  },
  {
   "cell_type": "code",
   "execution_count": 5,
   "id": "3fa3e71e-59e6-4e05-8b75-8e39e6b75fd5",
   "metadata": {
    "execution": {
     "iopub.execute_input": "2024-11-01T22:30:35.694607Z",
     "iopub.status.busy": "2024-11-01T22:30:35.694361Z",
     "iopub.status.idle": "2024-11-01T22:30:35.742122Z",
     "shell.execute_reply": "2024-11-01T22:30:35.741534Z",
     "shell.execute_reply.started": "2024-11-01T22:30:35.694573Z"
    }
   },
   "outputs": [
    {
     "data": {
      "application/vnd.jupyter.widget-view+json": {
       "model_id": "27218f3ac63841728e4a1990f9b894ed",
       "version_major": 2,
       "version_minor": 0
      },
      "text/plain": [
       "VBox()"
      ]
     },
     "metadata": {},
     "output_type": "display_data"
    },
    {
     "data": {
      "application/vnd.jupyter.widget-view+json": {
       "model_id": "",
       "version_major": 2,
       "version_minor": 0
      },
      "text/plain": [
       "FloatProgress(value=0.0, bar_style='info', description='Progress:', layout=Layout(height='25px', width='50%'),…"
      ]
     },
     "metadata": {},
     "output_type": "display_data"
    },
    {
     "name": "stdout",
     "output_type": "stream",
     "text": [
      "['nome', 'salario', 'idade', 'profissao']"
     ]
    }
   ],
   "source": [
    "df.columns"
   ]
  },
  {
   "cell_type": "markdown",
   "id": "cdd60d8b-bfc4-4f46-9f00-ca827aad566d",
   "metadata": {},
   "source": [
    "#### Têm como eu contar as linhas do meu dataframe?? "
   ]
  },
  {
   "cell_type": "code",
   "execution_count": 6,
   "id": "c3cdf48c-6be8-4444-8330-aadb32ee07b7",
   "metadata": {
    "execution": {
     "iopub.execute_input": "2024-11-01T22:30:35.743255Z",
     "iopub.status.busy": "2024-11-01T22:30:35.743075Z",
     "iopub.status.idle": "2024-11-01T22:30:38.008059Z",
     "shell.execute_reply": "2024-11-01T22:30:38.007430Z",
     "shell.execute_reply.started": "2024-11-01T22:30:35.743234Z"
    }
   },
   "outputs": [
    {
     "data": {
      "application/vnd.jupyter.widget-view+json": {
       "model_id": "76a95c2992a34a34b76e11e3f7f98e01",
       "version_major": 2,
       "version_minor": 0
      },
      "text/plain": [
       "VBox()"
      ]
     },
     "metadata": {},
     "output_type": "display_data"
    },
    {
     "data": {
      "application/vnd.jupyter.widget-view+json": {
       "model_id": "",
       "version_major": 2,
       "version_minor": 0
      },
      "text/plain": [
       "FloatProgress(value=0.0, bar_style='info', description='Progress:', layout=Layout(height='25px', width='50%'),…"
      ]
     },
     "metadata": {},
     "output_type": "display_data"
    },
    {
     "name": "stdout",
     "output_type": "stream",
     "text": [
      "5"
     ]
    }
   ],
   "source": [
    "df.count()"
   ]
  },
  {
   "cell_type": "markdown",
   "id": "2515114c-5164-46ca-9704-19c2e3a79645",
   "metadata": {},
   "source": [
    "#### Têm como eu contar a quantidade de colunas do DataFrame?"
   ]
  },
  {
   "cell_type": "code",
   "execution_count": 7,
   "id": "e926a765-7b3f-4387-9261-b5c2344c2145",
   "metadata": {
    "execution": {
     "iopub.execute_input": "2024-11-01T22:30:38.009145Z",
     "iopub.status.busy": "2024-11-01T22:30:38.008983Z",
     "iopub.status.idle": "2024-11-01T22:30:38.055393Z",
     "shell.execute_reply": "2024-11-01T22:30:38.054789Z",
     "shell.execute_reply.started": "2024-11-01T22:30:38.009125Z"
    }
   },
   "outputs": [
    {
     "data": {
      "application/vnd.jupyter.widget-view+json": {
       "model_id": "3c0e660cbacd464aaa1cabbf921cb415",
       "version_major": 2,
       "version_minor": 0
      },
      "text/plain": [
       "VBox()"
      ]
     },
     "metadata": {},
     "output_type": "display_data"
    },
    {
     "data": {
      "application/vnd.jupyter.widget-view+json": {
       "model_id": "",
       "version_major": 2,
       "version_minor": 0
      },
      "text/plain": [
       "FloatProgress(value=0.0, bar_style='info', description='Progress:', layout=Layout(height='25px', width='50%'),…"
      ]
     },
     "metadata": {},
     "output_type": "display_data"
    },
    {
     "name": "stdout",
     "output_type": "stream",
     "text": [
      "4"
     ]
    }
   ],
   "source": [
    "len(df.columns)"
   ]
  },
  {
   "cell_type": "markdown",
   "id": "4e8b44f4-9310-45a5-8c72-07f0a1fa054a",
   "metadata": {},
   "source": [
    "# Quais os tipos de dados disponíveis?"
   ]
  },
  {
   "cell_type": "markdown",
   "id": "a3bcc68a-c329-4741-afce-8b4217582abd",
   "metadata": {},
   "source": [
    "### Tipos de Dados Básicos:\n",
    "\n",
    "- StringType()\n",
    "- IntegerType()\n",
    "- LongType()\n",
    "- FloatType()\n",
    "- DoubleType()\n",
    "- BooleanType()\n",
    "- DateType()\n",
    "- TimestampType()\n",
    "- BynaryType()\n",
    "\n",
    "### Tipos de Dados Complexos:\n",
    "\n",
    "- ArrayType(elementType)\n",
    "- MapType(keyType, valueType)\n",
    "- StructType(fields)\n",
    "\n",
    "### Tipos de Dados Numéricos:\n",
    "\n",
    "- ByteType()\n",
    "- ShortType()\n",
    "- DecimalType(precision, scale)"
   ]
  },
  {
   "cell_type": "code",
   "execution_count": 8,
   "id": "2c0fd202-1f2b-4f88-a15f-1847fa91d3cb",
   "metadata": {
    "execution": {
     "iopub.execute_input": "2024-11-01T22:30:38.057496Z",
     "iopub.status.busy": "2024-11-01T22:30:38.057331Z",
     "iopub.status.idle": "2024-11-01T22:30:39.326400Z",
     "shell.execute_reply": "2024-11-01T22:30:39.325677Z",
     "shell.execute_reply.started": "2024-11-01T22:30:38.057475Z"
    }
   },
   "outputs": [
    {
     "data": {
      "application/vnd.jupyter.widget-view+json": {
       "model_id": "f7c4620bad524cd7a54d68c0671bf186",
       "version_major": 2,
       "version_minor": 0
      },
      "text/plain": [
       "VBox()"
      ]
     },
     "metadata": {},
     "output_type": "display_data"
    },
    {
     "data": {
      "application/vnd.jupyter.widget-view+json": {
       "model_id": "",
       "version_major": 2,
       "version_minor": 0
      },
      "text/plain": [
       "FloatProgress(value=0.0, bar_style='info', description='Progress:', layout=Layout(height='25px', width='50%'),…"
      ]
     },
     "metadata": {},
     "output_type": "display_data"
    },
    {
     "name": "stdout",
     "output_type": "stream",
     "text": [
      "+------+-------+-----+-------------------+-----+----------------+-------------------+---------------+-----+-------+---------------+------------------------------------+----------------------------+---------------+\n",
      "|Nome  |Salario|Idade|Profissao          |Ativo|Data_Contratacao|Ultima_Atualizacao |Identificador  |Notas|Foto   |Habilidades    |Atributos                           |Endereco                    |Salario_Decimal|\n",
      "+------+-------+-----+-------------------+-----+----------------+-------------------+---------------+-----+-------+---------------+------------------------------------+----------------------------+---------------+\n",
      "|Alice |50000.0|25   |Engenheiro         |true |2020-01-15      |2023-10-01 12:00:00|123456789012345|4.5  |[00 01]|[Python, Spark]|{Chave1 -> Valor1, Chave2 -> Valor2}|{Rua A, Cidade X, 12345-678}|50000.00       |\n",
      "|Samuel|10.25  |30   |Engenheiro de Dados|false|2019-03-22      |2023-10-01 12:00:00|123456789012346|3.8  |[00 02]|[Java, Hadoop] |{Chave1 -> Valor3, Chave2 -> Valor4}|{Rua B, Cidade Y, 23456-789}|10.25          |\n",
      "+------+-------+-----+-------------------+-----+----------------+-------------------+---------------+-----+-------+---------------+------------------------------------+----------------------------+---------------+"
     ]
    }
   ],
   "source": [
    "from pyspark.sql.types import (\n",
    "    StructType, StructField, StringType, IntegerType, LongType, FloatType, DoubleType,\n",
    "    BooleanType, DateType, TimestampType, BinaryType, ArrayType, MapType, DecimalType\n",
    ")\n",
    "import datetime\n",
    "import decimal\n",
    "\n",
    "# Definir o esquema com todas as tipagens possíveis\n",
    "schema = StructType([\n",
    "    StructField(\"Nome\", StringType(), True),\n",
    "    StructField(\"Salario\", FloatType(), True),\n",
    "    StructField(\"Idade\", IntegerType(), True),\n",
    "    StructField(\"Profissao\", StringType(), True),\n",
    "    StructField(\"Ativo\", BooleanType(), True),\n",
    "    StructField(\"Data_Contratacao\", DateType(), True),\n",
    "    StructField(\"Ultima_Atualizacao\", TimestampType(), True),\n",
    "    StructField(\"Identificador\", LongType(), True),\n",
    "    StructField(\"Notas\", DoubleType(), True),\n",
    "    StructField(\"Foto\", BinaryType(), True),\n",
    "    StructField(\"Habilidades\", ArrayType(StringType()), True),\n",
    "    StructField(\"Atributos\", MapType(StringType(), StringType()), True),\n",
    "    StructField(\"Endereco\", StructType([\n",
    "        StructField(\"Rua\", StringType(), True),\n",
    "        StructField(\"Cidade\", StringType(), True),\n",
    "        StructField(\"CEP\", StringType(), True)\n",
    "    ]), True),\n",
    "    StructField(\"Salario_Decimal\", DecimalType(10, 2), True)\n",
    "])\n",
    "\n",
    "# Dados fictícios\n",
    "data = [\n",
    "    (\n",
    "        'Alice', 50000.0, 25, 'Engenheiro', True, datetime.date(2020, 1, 15), datetime.datetime(2023, 10, 1, 12, 0, 0), 123456789012345,\n",
    "        4.5, bytearray(b'\\x00\\x01'), ['Python', 'Spark'], {'Chave1': 'Valor1', 'Chave2': 'Valor2'},\n",
    "        {'Rua': 'Rua A', 'Cidade': 'Cidade X', 'CEP': '12345-678'}, decimal.Decimal('50000.00')\n",
    "    ),\n",
    "    (\n",
    "        'Samuel', 10.25, 30, 'Engenheiro de Dados', False, datetime.date(2019, 3, 22), datetime.datetime(2023, 10, 1, 12, 0, 0), 123456789012346,\n",
    "        3.8, bytearray(b'\\x00\\x02'), ['Java', 'Hadoop'], {'Chave1': 'Valor3', 'Chave2': 'Valor4'},\n",
    "        {'Rua': 'Rua B', 'Cidade': 'Cidade Y', 'CEP': '23456-789'}, decimal.Decimal('10.25')\n",
    "    )\n",
    "]\n",
    "\n",
    "# Criar DataFrame\n",
    "df = spark.createDataFrame(data, schema=schema)\n",
    "\n",
    "# Exibir DataFrame\n",
    "df.show(truncate=False)"
   ]
  },
  {
   "cell_type": "code",
   "execution_count": 9,
   "id": "8b3d2b35-f31a-4b16-bb3d-f5bc3efdd6a8",
   "metadata": {
    "execution": {
     "iopub.execute_input": "2024-11-01T22:30:39.327758Z",
     "iopub.status.busy": "2024-11-01T22:30:39.327587Z",
     "iopub.status.idle": "2024-11-01T22:30:39.375507Z",
     "shell.execute_reply": "2024-11-01T22:30:39.374847Z",
     "shell.execute_reply.started": "2024-11-01T22:30:39.327735Z"
    }
   },
   "outputs": [
    {
     "data": {
      "application/vnd.jupyter.widget-view+json": {
       "model_id": "04bd34c4d5e14f81831ef2f3d30a5958",
       "version_major": 2,
       "version_minor": 0
      },
      "text/plain": [
       "VBox()"
      ]
     },
     "metadata": {},
     "output_type": "display_data"
    },
    {
     "data": {
      "application/vnd.jupyter.widget-view+json": {
       "model_id": "",
       "version_major": 2,
       "version_minor": 0
      },
      "text/plain": [
       "FloatProgress(value=0.0, bar_style='info', description='Progress:', layout=Layout(height='25px', width='50%'),…"
      ]
     },
     "metadata": {},
     "output_type": "display_data"
    },
    {
     "name": "stdout",
     "output_type": "stream",
     "text": [
      "root\n",
      " |-- Nome: string (nullable = true)\n",
      " |-- Salario: float (nullable = true)\n",
      " |-- Idade: integer (nullable = true)\n",
      " |-- Profissao: string (nullable = true)\n",
      " |-- Ativo: boolean (nullable = true)\n",
      " |-- Data_Contratacao: date (nullable = true)\n",
      " |-- Ultima_Atualizacao: timestamp (nullable = true)\n",
      " |-- Identificador: long (nullable = true)\n",
      " |-- Notas: double (nullable = true)\n",
      " |-- Foto: binary (nullable = true)\n",
      " |-- Habilidades: array (nullable = true)\n",
      " |    |-- element: string (containsNull = true)\n",
      " |-- Atributos: map (nullable = true)\n",
      " |    |-- key: string\n",
      " |    |-- value: string (valueContainsNull = true)\n",
      " |-- Endereco: struct (nullable = true)\n",
      " |    |-- Rua: string (nullable = true)\n",
      " |    |-- Cidade: string (nullable = true)\n",
      " |    |-- CEP: string (nullable = true)\n",
      " |-- Salario_Decimal: decimal(10,2) (nullable = true)"
     ]
    }
   ],
   "source": [
    "df.printSchema()"
   ]
  },
  {
   "cell_type": "markdown",
   "id": "145837e1-d82b-4196-aecd-56eeb721455c",
   "metadata": {},
   "source": [
    "### Como eu dou cast em uma variável?\n"
   ]
  },
  {
   "cell_type": "code",
   "execution_count": 10,
   "id": "e4b20e77-bf41-4c70-bea9-accc4a72f380",
   "metadata": {
    "execution": {
     "iopub.execute_input": "2024-11-01T22:30:39.376836Z",
     "iopub.status.busy": "2024-11-01T22:30:39.376595Z",
     "iopub.status.idle": "2024-11-01T22:30:40.146038Z",
     "shell.execute_reply": "2024-11-01T22:30:40.145257Z",
     "shell.execute_reply.started": "2024-11-01T22:30:39.376802Z"
    }
   },
   "outputs": [
    {
     "data": {
      "application/vnd.jupyter.widget-view+json": {
       "model_id": "96f1ec756c364f4797bcb072aa92efa6",
       "version_major": 2,
       "version_minor": 0
      },
      "text/plain": [
       "VBox()"
      ]
     },
     "metadata": {},
     "output_type": "display_data"
    },
    {
     "data": {
      "application/vnd.jupyter.widget-view+json": {
       "model_id": "",
       "version_major": 2,
       "version_minor": 0
      },
      "text/plain": [
       "FloatProgress(value=0.0, bar_style='info', description='Progress:', layout=Layout(height='25px', width='50%'),…"
      ]
     },
     "metadata": {},
     "output_type": "display_data"
    },
    {
     "name": "stdout",
     "output_type": "stream",
     "text": [
      "+------+-------+\n",
      "|  Nome|Salario|\n",
      "+------+-------+\n",
      "| Alice|  50000|\n",
      "|Samuel|     10|\n",
      "+------+-------+"
     ]
    }
   ],
   "source": [
    "from pyspark.sql.functions import *\n",
    "\n",
    "df = df.withColumn(\"Salario\",col(\"Salario\").cast(\"Integer\"))\n",
    "df.select(\"Nome\",\"Salario\").show()\n"
   ]
  },
  {
   "cell_type": "code",
   "execution_count": 11,
   "id": "5fae773a-a7db-4298-9ea7-7e12286e030b",
   "metadata": {
    "execution": {
     "iopub.execute_input": "2024-11-01T22:30:40.147077Z",
     "iopub.status.busy": "2024-11-01T22:30:40.146910Z",
     "iopub.status.idle": "2024-11-01T22:30:40.373567Z",
     "shell.execute_reply": "2024-11-01T22:30:40.370787Z",
     "shell.execute_reply.started": "2024-11-01T22:30:40.147056Z"
    }
   },
   "outputs": [
    {
     "data": {
      "application/vnd.jupyter.widget-view+json": {
       "model_id": "b8f94f777fee4951bf24e823df634297",
       "version_major": 2,
       "version_minor": 0
      },
      "text/plain": [
       "VBox()"
      ]
     },
     "metadata": {},
     "output_type": "display_data"
    },
    {
     "data": {
      "application/vnd.jupyter.widget-view+json": {
       "model_id": "",
       "version_major": 2,
       "version_minor": 0
      },
      "text/plain": [
       "FloatProgress(value=0.0, bar_style='info', description='Progress:', layout=Layout(height='25px', width='50%'),…"
      ]
     },
     "metadata": {},
     "output_type": "display_data"
    },
    {
     "name": "stdout",
     "output_type": "stream",
     "text": [
      "root\n",
      " |-- Salario: integer (nullable = true)"
     ]
    }
   ],
   "source": [
    "df.select(\"Salario\").printSchema()"
   ]
  },
  {
   "cell_type": "markdown",
   "id": "49800bd1-e16a-4eac-b7a9-9cf23a84b717",
   "metadata": {},
   "source": [
    "### Como eu crio uma coluna com um valor literal?"
   ]
  },
  {
   "cell_type": "code",
   "execution_count": 12,
   "id": "b0d6dc58-3bda-4a48-be91-8cf195bceed1",
   "metadata": {
    "execution": {
     "iopub.execute_input": "2024-11-01T22:30:40.390799Z",
     "iopub.status.busy": "2024-11-01T22:30:40.375953Z",
     "iopub.status.idle": "2024-11-01T22:30:41.211047Z",
     "shell.execute_reply": "2024-11-01T22:30:41.210321Z",
     "shell.execute_reply.started": "2024-11-01T22:30:40.390762Z"
    }
   },
   "outputs": [
    {
     "data": {
      "application/vnd.jupyter.widget-view+json": {
       "model_id": "8167ac81c09c4341aa730bb9733b9860",
       "version_major": 2,
       "version_minor": 0
      },
      "text/plain": [
       "VBox()"
      ]
     },
     "metadata": {},
     "output_type": "display_data"
    },
    {
     "data": {
      "application/vnd.jupyter.widget-view+json": {
       "model_id": "",
       "version_major": 2,
       "version_minor": 0
      },
      "text/plain": [
       "FloatProgress(value=0.0, bar_style='info', description='Progress:', layout=Layout(height='25px', width='50%'),…"
      ]
     },
     "metadata": {},
     "output_type": "display_data"
    },
    {
     "name": "stdout",
     "output_type": "stream",
     "text": [
      "+------+-------+\n",
      "|  Nome|Empresa|\n",
      "+------+-------+\n",
      "| Alice| Serasa|\n",
      "|Samuel| Serasa|\n",
      "+------+-------+"
     ]
    }
   ],
   "source": [
    "df = df.withColumn(\"Empresa\", lit(\"Serasa\"))\n",
    "df.select(\"Nome\",\"Empresa\").show()\n"
   ]
  },
  {
   "cell_type": "markdown",
   "id": "0d00bbdb-22af-4d00-845c-c6255b821314",
   "metadata": {},
   "source": [
    "### Como eu aumento o salário do Samuk?"
   ]
  },
  {
   "cell_type": "code",
   "execution_count": 13,
   "id": "f735ff60-f63c-4ff7-ba69-d49f2a96a91e",
   "metadata": {
    "execution": {
     "iopub.execute_input": "2024-11-01T22:30:41.213592Z",
     "iopub.status.busy": "2024-11-01T22:30:41.213362Z",
     "iopub.status.idle": "2024-11-01T22:30:41.967086Z",
     "shell.execute_reply": "2024-11-01T22:30:41.966490Z",
     "shell.execute_reply.started": "2024-11-01T22:30:41.213566Z"
    }
   },
   "outputs": [
    {
     "data": {
      "application/vnd.jupyter.widget-view+json": {
       "model_id": "b69f6e427198492cb3c526a102382a63",
       "version_major": 2,
       "version_minor": 0
      },
      "text/plain": [
       "VBox()"
      ]
     },
     "metadata": {},
     "output_type": "display_data"
    },
    {
     "data": {
      "application/vnd.jupyter.widget-view+json": {
       "model_id": "",
       "version_major": 2,
       "version_minor": 0
      },
      "text/plain": [
       "FloatProgress(value=0.0, bar_style='info', description='Progress:', layout=Layout(height='25px', width='50%'),…"
      ]
     },
     "metadata": {},
     "output_type": "display_data"
    },
    {
     "name": "stdout",
     "output_type": "stream",
     "text": [
      "+------+------------+\n",
      "|  Nome|Salario_novo|\n",
      "+------+------------+\n",
      "| Alice|     62500.0|\n",
      "|Samuel|        12.5|\n",
      "+------+------------+"
     ]
    }
   ],
   "source": [
    "df = df.withColumn(\"Salario_novo\", col(\"Salario\") * 1.25)\n",
    "df.select(\"Nome\",\"Salario_novo\").show()\n"
   ]
  },
  {
   "cell_type": "markdown",
   "id": "9ab024c7-fb3f-4160-a362-e4154014a989",
   "metadata": {},
   "source": [
    "#### Como eu dropo uma coluna do Dataframe?"
   ]
  },
  {
   "cell_type": "code",
   "execution_count": 14,
   "id": "8bb93ffa-ac21-4beb-9668-f399869a525d",
   "metadata": {
    "execution": {
     "iopub.execute_input": "2024-11-01T22:30:41.968286Z",
     "iopub.status.busy": "2024-11-01T22:30:41.968101Z",
     "iopub.status.idle": "2024-11-01T22:30:42.236491Z",
     "shell.execute_reply": "2024-11-01T22:30:42.235836Z",
     "shell.execute_reply.started": "2024-11-01T22:30:41.968264Z"
    }
   },
   "outputs": [
    {
     "data": {
      "application/vnd.jupyter.widget-view+json": {
       "model_id": "a275cf3742a44e5895fe750a0c7561c1",
       "version_major": 2,
       "version_minor": 0
      },
      "text/plain": [
       "VBox()"
      ]
     },
     "metadata": {},
     "output_type": "display_data"
    },
    {
     "data": {
      "application/vnd.jupyter.widget-view+json": {
       "model_id": "",
       "version_major": 2,
       "version_minor": 0
      },
      "text/plain": [
       "FloatProgress(value=0.0, bar_style='info', description='Progress:', layout=Layout(height='25px', width='50%'),…"
      ]
     },
     "metadata": {},
     "output_type": "display_data"
    }
   ],
   "source": [
    "df = df.drop(\"Salario_novo\")"
   ]
  },
  {
   "cell_type": "code",
   "execution_count": 15,
   "id": "aec5266b-fc59-46f2-813a-b2e8bd5c37fb",
   "metadata": {
    "execution": {
     "iopub.execute_input": "2024-11-01T22:30:42.237640Z",
     "iopub.status.busy": "2024-11-01T22:30:42.237452Z",
     "iopub.status.idle": "2024-11-01T22:30:43.056396Z",
     "shell.execute_reply": "2024-11-01T22:30:43.032652Z",
     "shell.execute_reply.started": "2024-11-01T22:30:42.237618Z"
    },
    "tags": []
   },
   "outputs": [
    {
     "data": {
      "application/vnd.jupyter.widget-view+json": {
       "model_id": "b25d6861c46642bbbf967f594e04d550",
       "version_major": 2,
       "version_minor": 0
      },
      "text/plain": [
       "VBox()"
      ]
     },
     "metadata": {},
     "output_type": "display_data"
    },
    {
     "data": {
      "application/vnd.jupyter.widget-view+json": {
       "model_id": "",
       "version_major": 2,
       "version_minor": 0
      },
      "text/plain": [
       "FloatProgress(value=0.0, bar_style='info', description='Progress:', layout=Layout(height='25px', width='50%'),…"
      ]
     },
     "metadata": {},
     "output_type": "display_data"
    },
    {
     "name": "stdout",
     "output_type": "stream",
     "text": [
      "+------+-------+-----+-------------------+-----+----------------+-------------------+---------------+-----+-------+---------------+--------------------+--------------------+---------------+-------+\n",
      "|  Nome|Salario|Idade|          Profissao|Ativo|Data_Contratacao| Ultima_Atualizacao|  Identificador|Notas|   Foto|    Habilidades|           Atributos|            Endereco|Salario_Decimal|Empresa|\n",
      "+------+-------+-----+-------------------+-----+----------------+-------------------+---------------+-----+-------+---------------+--------------------+--------------------+---------------+-------+\n",
      "| Alice|  50000|   25|         Engenheiro| true|      2020-01-15|2023-10-01 12:00:00|123456789012345|  4.5|[00 01]|[Python, Spark]|{Chave1 -> Valor1...|{Rua A, Cidade X,...|       50000.00| Serasa|\n",
      "|Samuel|     10|   30|Engenheiro de Dados|false|      2019-03-22|2023-10-01 12:00:00|123456789012346|  3.8|[00 02]| [Java, Hadoop]|{Chave1 -> Valor3...|{Rua B, Cidade Y,...|          10.25| Serasa|\n",
      "+------+-------+-----+-------------------+-----+----------------+-------------------+---------------+-----+-------+---------------+--------------------+--------------------+---------------+-------+"
     ]
    }
   ],
   "source": [
    "df.show()"
   ]
  }
 ],
 "metadata": {
  "kernelspec": {
   "display_name": "PySpark",
   "language": "python",
   "name": "pysparkkernel"
  },
  "language_info": {
   "codemirror_mode": {
    "name": "python",
    "version": 3
   },
   "file_extension": ".py",
   "mimetype": "text/x-python",
   "name": "pyspark",
   "pygments_lexer": "python3"
  }
 },
 "nbformat": 4,
 "nbformat_minor": 5
}
